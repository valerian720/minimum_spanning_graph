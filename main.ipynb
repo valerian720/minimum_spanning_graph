{
  "nbformat": 4,
  "nbformat_minor": 0,
  "metadata": {
    "colab": {
      "name": "ЛР2: минимальный остовной граф",
      "provenance": [],
      "collapsed_sections": [],
      "authorship_tag": "ABX9TyOz5CZZIYYzot2887KIu0r5",
      "include_colab_link": true
    },
    "kernelspec": {
      "name": "python3",
      "display_name": "Python 3"
    },
    "language_info": {
      "name": "python"
    }
  },
  "cells": [
    {
      "cell_type": "markdown",
      "metadata": {
        "id": "view-in-github",
        "colab_type": "text"
      },
      "source": [
        "<a href=\"https://colab.research.google.com/github/valerian720/minimum_spanning_graph/blob/main/main.ipynb\" target=\"_parent\"><img src=\"https://colab.research.google.com/assets/colab-badge.svg\" alt=\"Open In Colab\"/></a>"
      ]
    },
    {
      "cell_type": "markdown",
      "source": [
        "1. Создать программу, в которую подаётся на вход количество элементов графа X.\n",
        "2. Заполнить граф случайным количеством рёбер со случайными значениями весов.\n",
        "3. Вычислить минимальный остовной граф, вывести общую длинну остовного графа, проверить является исходный граф Гамильтоновым и Эйлеровым."
      ],
      "metadata": {
        "id": "rxNyKdrjponF"
      }
    },
    {
      "cell_type": "code",
      "source": [
        "import numpy as np\n",
        "\n",
        "# only for visualization, but could be used to study graphs\n",
        "import networkx as nx\n",
        "import matplotlib.pyplot as plt"
      ],
      "metadata": {
        "id": "upGZJXuJqWyw"
      },
      "execution_count": null,
      "outputs": []
    },
    {
      "cell_type": "code",
      "execution_count": null,
      "metadata": {
        "cellView": "form",
        "id": "DRdyvCWSpf7J"
      },
      "outputs": [],
      "source": [
        "#@markdown input params\n",
        "graph_sise = 10 #@param {type: \"slider\", min: 2, max: 100}\n",
        "min_value = 0 #@param {type: \"slider\", min: 0, max: 100}\n",
        "max_value = 10 #@param {type: \"slider\", min: 0, max: 100}\n",
        "threshold = 3 #@param {type: \"slider\", min: 0, max: 100}"
      ]
    },
    {
      "cell_type": "code",
      "source": [
        "#@markdown class Graph\n",
        "class Graph:\n",
        "    def __init__(self, num_of_nodes, min_value, max_value, threshold):\n",
        "        self.m_num_of_nodes = num_of_nodes\n",
        "\n",
        "        # create random weights of graph\n",
        "        self.adjacency_matrix = np.random.randint(min_value,max_value,(num_of_nodes,num_of_nodes))\n",
        "        self.adjacency_matrix[self.adjacency_matrix <= threshold] = 0\n",
        "        print(\"adjacency_matrix:\\n\", self.adjacency_matrix)\n",
        "        self.m_graph = []\n",
        "        self.mst = []\n",
        "\n",
        "        # add edges\n",
        "        [[self.add_edge(i, j, self.adjacency_matrix[i, j]) if self.adjacency_matrix[i, j] > 0 and i != j else 0 for j in range(num_of_nodes)] for i in range(num_of_nodes)]\n",
        "        print(f\"edges ({len(self.m_graph)}):\\n\",self.m_graph)\n",
        "\n",
        "    def add_edge(self, node1, node2, weight):\n",
        "        self.m_graph.append([node1, node2, weight])\n",
        "\n",
        "    def find_subtree(self, parent, i):\n",
        "      if parent[i] == i:\n",
        "          return i\n",
        "      return self.find_subtree(parent, parent[i])\n",
        "\n",
        "    def connect_subtrees(self, parent, subtree_sizes, x, y):\n",
        "        xroot = self.find_subtree(parent, x)\n",
        "        yroot = self.find_subtree(parent, y)\n",
        "        if subtree_sizes[xroot] < subtree_sizes[yroot]:\n",
        "            parent[xroot] = yroot\n",
        "        elif subtree_sizes[xroot] > subtree_sizes[yroot]:\n",
        "            parent[yroot] = xroot\n",
        "        else:\n",
        "            parent[yroot] = xroot\n",
        "            subtree_sizes[xroot] += 1  \n",
        "\n",
        "    def min_spanning_graph(self):\n",
        "        # Resulting tree\n",
        "        result = []\n",
        "        \n",
        "        # Iterator\n",
        "        i = 0\n",
        "        # Number of edges in MST\n",
        "        e = 0\n",
        "\n",
        "        # Sort edges by their weight\n",
        "        self.m_graph = sorted(self.m_graph, key=lambda item: item[2])\n",
        "        \n",
        "        # Auxiliary arrays\n",
        "        parent = []\n",
        "        subtree_sizes = []\n",
        "\n",
        "        # Initialize `parent` and `subtree_sizes` arrays\n",
        "        for node in range(self.m_num_of_nodes):\n",
        "            parent.append(node)\n",
        "            subtree_sizes.append(0)\n",
        "\n",
        "        # Important property of MSTs\n",
        "        # number of egdes in a MST is \n",
        "        # equal to (m_num_of_nodes - 1)\n",
        "        while e < (self.m_num_of_nodes - 1):\n",
        "            # Pick an edge with the minimal weight\n",
        "            node1, node2, weight = self.m_graph[i]\n",
        "            i = i + 1\n",
        "\n",
        "            x = self.find_subtree(parent, node1)\n",
        "            y = self.find_subtree(parent, node2)\n",
        "\n",
        "            if x != y:\n",
        "                e = e + 1\n",
        "                result.append([node1, node2, weight])\n",
        "                self.connect_subtrees(parent, subtree_sizes, x, y)\n",
        "\n",
        "        self.mst = result\n",
        "        # \n",
        "        spanning_length = 0\n",
        "        # \n",
        "        # Print the resulting MST\n",
        "        for node1, node2, weight in result:\n",
        "            print(f\"{node1} - {node2}: {weight}\")\n",
        "            spanning_length += weight\n",
        "            # \n",
        "        print(\"minimum spanning graph length: \", spanning_length)"
      ],
      "metadata": {
        "id": "PrLlDM-ts6dS"
      },
      "execution_count": null,
      "outputs": []
    },
    {
      "cell_type": "code",
      "source": [
        "class Hamiltonian:\n",
        "    def __init__(self, graph):\n",
        "        self.start = 0\n",
        "        self.adjacency_matrix = graph.adjacency_matrix\n",
        "        self.m_num_of_nodes = graph.m_num_of_nodes\n",
        "        # list to store the cycle path\n",
        "        self.cycle = []\n",
        "        self.visited = [0 for x in range(self.m_num_of_nodes)]\n",
        " \n",
        "        # variable to mark if graph has the cycle\n",
        "        self.hasCycle = False\n",
        " \n",
        "    # method to initiate the search of cycle\n",
        "    def findCycle(self):\n",
        "        print(\"finding...\")\n",
        "        # add starting vertex to the list\n",
        "        self.cycle.append(self.start)\n",
        " \n",
        "        # start the search of the hamiltonian cycle\n",
        "        self.solve(self.start)\n",
        " \n",
        "    # recursive function to implement backtracking\n",
        "    def solve(self, vertex):\n",
        "        # Base condition: if the vertex is the start vertex\n",
        "        # and all nodes have been visited (start vertex twice)\n",
        "        if vertex == self.start and len(self.cycle) == self.m_num_of_nodes + 1:\n",
        "            self.hasCycle = True\n",
        "            print(\"cycle:\", self.cycle)\n",
        "\n",
        "            return True # break all the recursion becouse we found one\n",
        "            # return False # return to explore more cycles\n",
        " \n",
        "        # iterate through the neighbor vertices\n",
        "        for i in range(self.m_num_of_nodes):\n",
        "            if self.adjacency_matrix[vertex][i] > 0 and self.visited[i] == 0:\n",
        "                nbr = i\n",
        "                # visit and add vertex to the cycle\n",
        "                self.visited[nbr] = 1\n",
        "                self.cycle.append(nbr)\n",
        " \n",
        "                # traverse the neighbor vertex to find the cycle\n",
        "                can_break = self.solve(nbr)\n",
        "\n",
        "                if can_break:\n",
        "                    return True\n",
        "\n",
        "                # Backtrack\n",
        "                self.visited[nbr] = 0\n",
        "                self.cycle.pop()\n",
        "        return False"
      ],
      "metadata": {
        "id": "M4HcDJu-9Cj6"
      },
      "execution_count": null,
      "outputs": []
    },
    {
      "cell_type": "code",
      "source": [
        "class Eulerian:\n",
        "    def __init__(self, graph):\n",
        "        self.m_graph = graph.m_graph\n",
        "        self.m_num_of_nodes = graph.m_num_of_nodes\n",
        "\n",
        "        self.in_degree = np.full(self.m_num_of_nodes, 0)\n",
        "        self.out_degree = np.full(self.m_num_of_nodes, 0)\n",
        "\n",
        "        self.hasCycle = False\n",
        "\n",
        "    # https://codeforces.com/blog/entry/56654?locale=ru\n",
        "    def checkCycle(self):\n",
        "        for node1, node2, weight in self.m_graph:\n",
        "            self.out_degree[node1] += 1\n",
        "            self.in_degree[node2] += 1\n",
        "        is_stongly_connectd = np.all(self.out_degree > 0) and np.all(self.in_degree > 0) # ?\n",
        "        self.hasCycle = is_stongly_connectd and sum(self.in_degree) == sum(self.out_degree)\n",
        "        print(\"in degree: \", self.in_degree)\n",
        "        print(\"out degree: \", self.out_degree)\n",
        "    \n"
      ],
      "metadata": {
        "id": "4KeNt1jCcxkK"
      },
      "execution_count": null,
      "outputs": []
    },
    {
      "cell_type": "code",
      "source": [
        "# only for visualization\n",
        "def print_graph(graph_edges):\n",
        "    G = nx.Graph()\n",
        "    G.add_weighted_edges_from(graph_edges)\n",
        "\n",
        "    pos=nx.spring_layout(G)\n",
        "    nx.draw_networkx(G,pos)\n",
        "    labels = nx.get_edge_attributes(G,'weight')\n",
        "    nx.draw_networkx_edge_labels(G,pos,edge_labels=labels)"
      ],
      "metadata": {
        "id": "_CejIDHV3hzn"
      },
      "execution_count": null,
      "outputs": []
    },
    {
      "cell_type": "code",
      "source": [
        "# create random graph\n",
        "random_graph = Graph(graph_sise, min_value, max_value, threshold)"
      ],
      "metadata": {
        "id": "HuPjYnnxrr2z",
        "colab": {
          "base_uri": "https://localhost:8080/"
        },
        "outputId": "54e08654-211b-4e60-baf8-ee03370c3df2"
      },
      "execution_count": null,
      "outputs": [
        {
          "output_type": "stream",
          "name": "stdout",
          "text": [
            "adjacency_matrix:\n",
            " [[8 6 0 7 4 5 9 9 0 0]\n",
            " [7 0 0 8 4 0 0 0 9 5]\n",
            " [7 9 6 8 9 0 0 0 0 0]\n",
            " [8 0 0 6 7 4 0 0 0 0]\n",
            " [4 7 5 6 0 6 6 0 8 4]\n",
            " [6 7 5 6 5 5 0 7 4 6]\n",
            " [0 7 0 6 0 0 6 8 0 9]\n",
            " [6 0 4 8 6 8 9 0 4 8]\n",
            " [6 0 0 0 4 8 4 0 5 0]\n",
            " [7 7 0 0 0 6 6 5 7 7]]\n",
            "edges (56):\n",
            " [[0, 1, 6], [0, 3, 7], [0, 4, 4], [0, 5, 5], [0, 6, 9], [0, 7, 9], [1, 0, 7], [1, 3, 8], [1, 4, 4], [1, 8, 9], [1, 9, 5], [2, 0, 7], [2, 1, 9], [2, 3, 8], [2, 4, 9], [3, 0, 8], [3, 4, 7], [3, 5, 4], [4, 0, 4], [4, 1, 7], [4, 2, 5], [4, 3, 6], [4, 5, 6], [4, 6, 6], [4, 8, 8], [4, 9, 4], [5, 0, 6], [5, 1, 7], [5, 2, 5], [5, 3, 6], [5, 4, 5], [5, 7, 7], [5, 8, 4], [5, 9, 6], [6, 1, 7], [6, 3, 6], [6, 7, 8], [6, 9, 9], [7, 0, 6], [7, 2, 4], [7, 3, 8], [7, 4, 6], [7, 5, 8], [7, 6, 9], [7, 8, 4], [7, 9, 8], [8, 0, 6], [8, 4, 4], [8, 5, 8], [8, 6, 4], [9, 0, 7], [9, 1, 7], [9, 5, 6], [9, 6, 6], [9, 7, 5], [9, 8, 7]]\n"
          ]
        }
      ]
    },
    {
      "cell_type": "code",
      "source": [
        "print_graph(random_graph.m_graph)\n",
        "# print(random_graph.m_graph)"
      ],
      "metadata": {
        "id": "L8xCLyji2bgh",
        "colab": {
          "base_uri": "https://localhost:8080/",
          "height": 248
        },
        "outputId": "19f0e73b-7e38-4619-ab50-ac3038384a9d"
      },
      "execution_count": null,
      "outputs": [
        {
          "output_type": "display_data",
          "data": {
            "text/plain": [
              "<Figure size 432x288 with 1 Axes>"
            ],
            "image/png": "[encoded data removed]"
          },
          "metadata": {}
        }
      ]
    },
    {
      "cell_type": "code",
      "source": [
        "# calculate minimum spanning graph\n",
        "random_graph.min_spanning_graph()"
      ],
      "metadata": {
        "id": "ZbiFRv9L0FTt",
        "colab": {
          "base_uri": "https://localhost:8080/"
        },
        "outputId": "08235657-bd4a-4e8c-f795-e671cd84ca16"
      },
      "execution_count": null,
      "outputs": [
        {
          "output_type": "stream",
          "name": "stdout",
          "text": [
            "0 - 4: 4\n",
            "1 - 4: 4\n",
            "3 - 5: 4\n",
            "4 - 9: 4\n",
            "5 - 8: 4\n",
            "7 - 2: 4\n",
            "7 - 8: 4\n",
            "8 - 4: 4\n",
            "8 - 6: 4\n",
            "minimum spanning graph length:  36\n"
          ]
        }
      ]
    },
    {
      "cell_type": "code",
      "source": [
        "print_graph(random_graph.mst)\n",
        "# print(random_graph.mst)"
      ],
      "metadata": {
        "id": "EUduf-392i1W",
        "colab": {
          "base_uri": "https://localhost:8080/",
          "height": 248
        },
        "outputId": "d43b0310-a018-4f98-86e2-3adf751c68e8"
      },
      "execution_count": null,
      "outputs": [
        {
          "output_type": "display_data",
          "data": {
            "text/plain": [
              "<Figure size 432x288 with 1 Axes>"
            ],
            "image/png": "[encoded data removed]"
          },
          "metadata": {}
        }
      ]
    },
    {
      "cell_type": "code",
      "source": [
        "ham = Hamiltonian(random_graph)\n",
        "ham.findCycle()\n",
        "print(\"has Hamiltonian cycle: \", ham.hasCycle)"
      ],
      "metadata": {
        "id": "UaavBhYdUL99",
        "colab": {
          "base_uri": "https://localhost:8080/"
        },
        "outputId": "27585c25-2c93-4ef7-fdf2-feacea94beac"
      },
      "execution_count": null,
      "outputs": [
        {
          "output_type": "stream",
          "name": "stdout",
          "text": [
            "finding...\n",
            "cycle: [0, 1, 3, 4, 5, 8, 6, 9, 7, 2, 0]\n",
            "has Hamiltonian cycle:  True\n"
          ]
        }
      ]
    },
    {
      "cell_type": "code",
      "source": [
        "eul = Eulerian(random_graph)\n",
        "eul.checkCycle()\n",
        "print(\"has Eulerian cycle: \", eul.hasCycle)"
      ],
      "metadata": {
        "colab": {
          "base_uri": "https://localhost:8080/"
        },
        "id": "sXJnvBXtjso-",
        "outputId": "c848d605-3900-41b9-f43c-d4270f36b0c8"
      },
      "execution_count": null,
      "outputs": [
        {
          "output_type": "stream",
          "name": "stdout",
          "text": [
            "in degree:  [8 6 3 7 7 6 5 4 5 5]\n",
            "out degree:  [6 5 4 3 8 8 4 8 4 6]\n",
            "has Eulerian cycle:  True\n"
          ]
        }
      ]
    }
  ]
}